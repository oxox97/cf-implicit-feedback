{
 "cells": [
  {
   "cell_type": "code",
   "execution_count": 1,
   "id": "b05e14d4",
   "metadata": {},
   "outputs": [],
   "source": [
    "# confidence를 watch_count 그대로 사용하고 있는데, exp나 log나 다른 방법은?\n",
    "# 데이터 근거 확인 필요\n",
    "# 일정 수준 이상 watch count부터 비슷한 클러스터링 잘 된다던가"
   ]
  },
  {
   "cell_type": "code",
   "execution_count": null,
   "id": "9d6b5b3d",
   "metadata": {},
   "outputs": [],
   "source": []
  }
 ],
 "metadata": {
  "kernelspec": {
   "display_name": "Python 3",
   "language": "python",
   "name": "python3"
  },
  "language_info": {
   "codemirror_mode": {
    "name": "ipython",
    "version": 3
   },
   "file_extension": ".py",
   "mimetype": "text/x-python",
   "name": "python",
   "nbconvert_exporter": "python",
   "pygments_lexer": "ipython3",
   "version": "3.12.2"
  }
 },
 "nbformat": 4,
 "nbformat_minor": 5
}
